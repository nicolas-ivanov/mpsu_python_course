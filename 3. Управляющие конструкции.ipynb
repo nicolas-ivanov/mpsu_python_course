{
 "cells": [
  {
   "cell_type": "markdown",
   "metadata": {},
   "source": [
    "## Управляющие конструкции"
   ]
  },
  {
   "cell_type": "markdown",
   "metadata": {},
   "source": [
    "Условный оператор if-elif-else. Все логические блоки выделяются отступами (общепринято ставить 4 пробела)."
   ]
  },
  {
   "cell_type": "code",
   "execution_count": 9,
   "metadata": {},
   "outputs": [
    {
     "name": "stdout",
     "output_type": "stream",
     "text": [
      "Unknown man\n"
     ]
    }
   ],
   "source": [
    "name = 'Kolya'\n",
    "if name == 'Petya':\n",
    "    print 'Romov', name\n",
    "elif name == 'Sasha':\n",
    "    print 'Fonarev', name\n",
    "elif name == 'Vasya':\n",
    "    print 'Pupkin', name\n",
    "else:\n",
    "    print 'Unknown man'"
   ]
  },
  {
   "cell_type": "markdown",
   "metadata": {},
   "source": [
    "А вот цикл while с удобным постусловием для проверки наличия элемента в списке чисел:"
   ]
  },
  {
   "cell_type": "code",
   "execution_count": 10,
   "metadata": {},
   "outputs": [
    {
     "name": "stdout",
     "output_type": "stream",
     "text": [
      "Not found!\n"
     ]
    }
   ],
   "source": [
    "data = [19, 2, 4, 6, 7, 3]\n",
    "element_to_find = 10\n",
    "i = 0\n",
    "while i < len(data):\n",
    "    if data[i] == element_to_find:\n",
    "        print \"Found!\"\n",
    "        break\n",
    "    i += 1\n",
    "else:\n",
    "    print \"Not found!\""
   ]
  },
  {
   "cell_type": "markdown",
   "metadata": {},
   "source": [
    "Аналогично можно реализовать такую же проверку с помощью цикла for:"
   ]
  },
  {
   "cell_type": "code",
   "execution_count": 11,
   "metadata": {},
   "outputs": [
    {
     "name": "stdout",
     "output_type": "stream",
     "text": [
      "Not found!\n"
     ]
    }
   ],
   "source": [
    "data = [19, 2, 4, 6, 7, 3]\n",
    "element_to_find = 10\n",
    "for i in range(len(data)):\n",
    "    if data[i] == element_to_find:\n",
    "        print \"Found!\"\n",
    "        break\n",
    "else:\n",
    "    print \"Not found!\""
   ]
  },
  {
   "cell_type": "markdown",
   "metadata": {},
   "source": [
    "Таким образом i здесь пробегает по всем элементам списка из индексов. А почему бы тогда не пробегать сразу по элементам списка data?"
   ]
  },
  {
   "cell_type": "code",
   "execution_count": 12,
   "metadata": {},
   "outputs": [
    {
     "name": "stdout",
     "output_type": "stream",
     "text": [
      "Not found!\n"
     ]
    }
   ],
   "source": [
    "data = [19, 2, 4, 6, 7, 3]\n",
    "element_to_find = 10\n",
    "for element in data:\n",
    "    if element == element_to_find:\n",
    "        print \"Found!\"\n",
    "        break\n",
    "else:\n",
    "    print \"Not found!\""
   ]
  },
  {
   "cell_type": "markdown",
   "metadata": {},
   "source": [
    "Хотя, конечно, вот самый простой способ проверки, встроенный прямо в Python."
   ]
  },
  {
   "cell_type": "code",
   "execution_count": 13,
   "metadata": {
    "scrolled": true
   },
   "outputs": [
    {
     "name": "stdout",
     "output_type": "stream",
     "text": [
      "Not found!\n"
     ]
    }
   ],
   "source": [
    "data = [19, 2, 4, 6, 7, 3]\n",
    "element_to_find = 10\n",
    "if element_to_find in data:\n",
    "    print \"Found!\"\n",
    "else:\n",
    "    print \"Not found!\""
   ]
  },
  {
   "cell_type": "code",
   "execution_count": null,
   "metadata": {
    "collapsed": true
   },
   "outputs": [],
   "source": []
  }
 ],
 "metadata": {
  "kernelspec": {
   "display_name": "Python 2",
   "language": "python",
   "name": "python2"
  },
  "language_info": {
   "codemirror_mode": {
    "name": "ipython",
    "version": 2
   },
   "file_extension": ".py",
   "mimetype": "text/x-python",
   "name": "python",
   "nbconvert_exporter": "python",
   "pygments_lexer": "ipython2",
   "version": "2.7.14"
  }
 },
 "nbformat": 4,
 "nbformat_minor": 2
}
