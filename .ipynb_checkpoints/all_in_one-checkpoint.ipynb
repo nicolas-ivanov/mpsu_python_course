{
 "cells": [
  {
   "cell_type": "markdown",
   "metadata": {},
   "source": [
    "# Краткое руководство с примерами по Python 2"
   ]
  },
  {
   "cell_type": "markdown",
   "metadata": {},
   "source": [
    "Данное руководство ни в коем случае не предентует на полноту изложения :)\n",
    "\n",
    "Официальная документация Python 2: http://docs.python.org/2/. \n",
    "\n",
    "Официальное руководство с примерами: http://docs.python.org/2/tutorial/index.html\n",
    "\n",
    "Различия между Python2 и Python3 https://wiki.python.org/moin/Python2orPython3"
   ]
  },
  {
   "cell_type": "markdown",
   "metadata": {},
   "source": [
    "## Простейшие типы данных и арифметичекие операции"
   ]
  },
  {
   "cell_type": "markdown",
   "metadata": {},
   "source": [
    "Помимо обычного присваивания значения переменной, есть еще т.н. множественное присваивание, когда переменные записываются через запятую. Однострочные комментарии выделяются знаком #. Для вывода на экран нескольких аргументов нужно указать их через запятую."
   ]
  },
  {
   "cell_type": "code",
   "execution_count": 1,
   "metadata": {},
   "outputs": [
    {
     "name": "stdout",
     "output_type": "stream",
     "text": [
      "10\n",
      "3.1 4\n",
      "4 3.1\n",
      "<type 'int'> <type 'int'> <type 'float'>\n"
     ]
    }
   ],
   "source": [
    "a = 10\n",
    "print a\n",
    "b, c = 3.1, 4\n",
    "print b, c\n",
    "b, c = c, b\n",
    "print b, c\n",
    "print type(a), type(b), type(c)"
   ]
  },
  {
   "cell_type": "markdown",
   "metadata": {},
   "source": [
    "В Python есть как и обычные для других языков арифметические операции, так и довольно редкие. Например, возведение в степень. К тому же в язык встроена длинная арифметика неограниченной точности. "
   ]
  },
  {
   "cell_type": "code",
   "execution_count": 2,
   "metadata": {},
   "outputs": [
    {
     "name": "stdout",
     "output_type": "stream",
     "text": [
      "2037035976334486086268445688409378161051468393665936250636140449354381299763336706183397376\n",
      "<type 'long'>\n"
     ]
    }
   ],
   "source": [
    "print 2 ** 300\n",
    "print type(2 ** 100)"
   ]
  },
  {
   "cell_type": "markdown",
   "metadata": {},
   "source": [
    "Как и, например, в C, существует различие между целочисленным типом и вещественным."
   ]
  },
  {
   "cell_type": "code",
   "execution_count": 3,
   "metadata": {},
   "outputs": [
    {
     "name": "stdout",
     "output_type": "stream",
     "text": [
      "2\n",
      "2.0\n",
      "2.0\n"
     ]
    }
   ],
   "source": [
    "a = 2\n",
    "print a ** 3 / 4\n",
    "print a ** 3.0 / 4\n",
    "print a ** 3 / 4.0"
   ]
  },
  {
   "cell_type": "markdown",
   "metadata": {},
   "source": [
    "Аналогично языку C++, написав название типа с круглыми скобками после него, мы вызовем конструктор \"простейшего\" объекта указанного типа. Таким же образом можно преобразовывать один тип к другому."
   ]
  },
  {
   "cell_type": "code",
   "execution_count": 4,
   "metadata": {},
   "outputs": [
    {
     "name": "stdout",
     "output_type": "stream",
     "text": [
      "0\n",
      "0.0\n",
      "3.0\n",
      "12\n"
     ]
    }
   ],
   "source": [
    "print int()\n",
    "print float()\n",
    "print float(3)\n",
    "print int(12.7)"
   ]
  },
  {
   "cell_type": "markdown",
   "metadata": {},
   "source": [
    "Также в Python есть логический тип, строки и особый тип со всего одним значением *None*."
   ]
  },
  {
   "cell_type": "code",
   "execution_count": 5,
   "metadata": {},
   "outputs": [
    {
     "name": "stdout",
     "output_type": "stream",
     "text": [
      "Hello world!\n",
      "True\n",
      "None <type 'NoneType'>\n"
     ]
    }
   ],
   "source": [
    "print 'Hello world!'\n",
    "print 'Hello world!' == \"Hello world!\"\n",
    "a = None\n",
    "print a, type(a)"
   ]
  },
  {
   "cell_type": "markdown",
   "metadata": {},
   "source": [
    "## Списки"
   ]
  },
  {
   "cell_type": "markdown",
   "metadata": {},
   "source": [
    "В Python есть аналог массивов в других языках программирования — список. Этот список не стоит путать со списком, как структурой данных (где обращение по индексу происходит за O(N)). Список в Python может содержать объекты разных типов."
   ]
  },
  {
   "cell_type": "code",
   "execution_count": 6,
   "metadata": {},
   "outputs": [
    {
     "name": "stdout",
     "output_type": "stream",
     "text": [
      "[0, 1, 2, 3, 4, 5, 6, 7, 8, 9]\n",
      "[0, 1, 2, 3, 4, 5, 6, 7, 8, 9]\n",
      "123 None\n",
      "2\n"
     ]
    }
   ],
   "source": [
    "print [0, 1, 2, 3, 4, 5, 6, 7, 8, 9]\n",
    "print range(10)\n",
    "a = [123, 12.0, None, [1, [], []], 'qwerty']\n",
    "print a[0], a[2]\n",
    "print [[0, 1, 0], [1, 2, 1], [0, 1, 0]][1][1]"
   ]
  },
  {
   "cell_type": "markdown",
   "metadata": {},
   "source": [
    "Мощные инструменты Python — срезы и отрицательные индексы."
   ]
  },
  {
   "cell_type": "code",
   "execution_count": 7,
   "metadata": {},
   "outputs": [
    {
     "name": "stdout",
     "output_type": "stream",
     "text": [
      "[0, 1, 2, 3, 4, 5, 6, 7, 8, 9]\n",
      "[0, 1, 2, 3, 4]\n",
      "[0, 1, 2, 3, 4]\n",
      "[0, 1, 2, 3, 4, 5, 6, 7, 8, 9]\n",
      "[2, 5]\n",
      "9\n",
      "[9, 8, 7, 6, 5, 4, 3, 2, 1, 0]\n"
     ]
    }
   ],
   "source": [
    "a = range(10)\n",
    "print a\n",
    "print a[0:5] # elements from 0 to 4\n",
    "print a[:5] # elements from begin to 4\n",
    "print a[:] # elements from begin to end\n",
    "print a[2:8:3] # every third element from 2 to 7 \n",
    "print a[-1] # last element\n",
    "print a[::-1] # reverse list"
   ]
  },
  {
   "cell_type": "markdown",
   "metadata": {},
   "source": [
    "А еще можно, например, отсортировать список:"
   ]
  },
  {
   "cell_type": "code",
   "execution_count": 8,
   "metadata": {},
   "outputs": [
    {
     "name": "stdout",
     "output_type": "stream",
     "text": [
      "[10, 9, 8, 7, 6, 5, 4, 3, 2, 1]\n",
      "[10, 9, 8, 7, 6, 5, 4, 3, 2, 1] [1, 2, 3, 4, 5, 6, 7, 8, 9, 10]\n",
      "[10, 9, 8, 7, 6, 5, 4, 3, 2, 1] [10, 9, 8, 7, 6, 5, 4, 3, 2, 1]\n"
     ]
    }
   ],
   "source": [
    "a = range(10, 0, -1)\n",
    "print a\n",
    "b = sorted(a)\n",
    "print a, b\n",
    "b.sort(reverse=True)\n",
    "print a, b"
   ]
  },
  {
   "cell_type": "markdown",
   "metadata": {},
   "source": [
    "## Управляющие конструкции"
   ]
  },
  {
   "cell_type": "markdown",
   "metadata": {},
   "source": [
    "Условный оператор if-elif-else. Все логические блоки выделяются отступами (общепринято ставить 4 пробела)."
   ]
  },
  {
   "cell_type": "code",
   "execution_count": 9,
   "metadata": {},
   "outputs": [
    {
     "name": "stdout",
     "output_type": "stream",
     "text": [
      "Unknown man\n"
     ]
    }
   ],
   "source": [
    "name = 'Kolya'\n",
    "if name == 'Petya':\n",
    "    print 'Romov', name\n",
    "elif name == 'Sasha':\n",
    "    print 'Fonarev', name\n",
    "elif name == 'Vasya':\n",
    "    print 'Pupkin', name\n",
    "else:\n",
    "    print 'Unknown man'"
   ]
  },
  {
   "cell_type": "markdown",
   "metadata": {},
   "source": [
    "А вот цикл while с удобным постусловием для проверки наличия элемента в списке чисел:"
   ]
  },
  {
   "cell_type": "code",
   "execution_count": 10,
   "metadata": {},
   "outputs": [
    {
     "name": "stdout",
     "output_type": "stream",
     "text": [
      "Not found!\n"
     ]
    }
   ],
   "source": [
    "data = [19, 2, 4, 6, 7, 3]\n",
    "element_to_find = 10\n",
    "i = 0\n",
    "while i < len(data):\n",
    "    if data[i] == element_to_find:\n",
    "        print \"Found!\"\n",
    "        break\n",
    "    i += 1\n",
    "else:\n",
    "    print \"Not found!\""
   ]
  },
  {
   "cell_type": "markdown",
   "metadata": {},
   "source": [
    "Аналогично можно реализовать такую же проверку с помощью цикла for:"
   ]
  },
  {
   "cell_type": "code",
   "execution_count": 11,
   "metadata": {},
   "outputs": [
    {
     "name": "stdout",
     "output_type": "stream",
     "text": [
      "Not found!\n"
     ]
    }
   ],
   "source": [
    "data = [19, 2, 4, 6, 7, 3]\n",
    "element_to_find = 10\n",
    "for i in range(len(data)):\n",
    "    if data[i] == element_to_find:\n",
    "        print \"Found!\"\n",
    "        break\n",
    "else:\n",
    "    print \"Not found!\""
   ]
  },
  {
   "cell_type": "markdown",
   "metadata": {},
   "source": [
    "Таким образом i здесь пробегает по всем элементам списка из индексов. А почему бы тогда не пробегать сразу по элементам списка data?"
   ]
  },
  {
   "cell_type": "code",
   "execution_count": 12,
   "metadata": {},
   "outputs": [
    {
     "name": "stdout",
     "output_type": "stream",
     "text": [
      "Not found!\n"
     ]
    }
   ],
   "source": [
    "data = [19, 2, 4, 6, 7, 3]\n",
    "element_to_find = 10\n",
    "for element in data:\n",
    "    if element == element_to_find:\n",
    "        print \"Found!\"\n",
    "        break\n",
    "else:\n",
    "    print \"Not found!\""
   ]
  },
  {
   "cell_type": "markdown",
   "metadata": {},
   "source": [
    "Хотя, конечно, вот самый простой способ проверки, встроенный прямо в Python."
   ]
  },
  {
   "cell_type": "code",
   "execution_count": 13,
   "metadata": {},
   "outputs": [
    {
     "name": "stdout",
     "output_type": "stream",
     "text": [
      "Not found!\n"
     ]
    }
   ],
   "source": [
    "data = [19, 2, 4, 6, 7, 3]\n",
    "element_to_find = 10\n",
    "if element_to_find in data:\n",
    "    print \"Found!\"\n",
    "else:\n",
    "    print \"Not found!\""
   ]
  },
  {
   "cell_type": "markdown",
   "metadata": {},
   "source": [
    "## Строки"
   ]
  },
  {
   "cell_type": "markdown",
   "metadata": {},
   "source": [
    "Строки в Python неизменяемы."
   ]
  },
  {
   "cell_type": "code",
   "execution_count": 14,
   "metadata": {},
   "outputs": [
    {
     "ename": "TypeError",
     "evalue": "'str' object does not support item assignment",
     "output_type": "error",
     "traceback": [
      "\u001b[0;31m---------------------------------------------------------------------------\u001b[0m",
      "\u001b[0;31mTypeError\u001b[0m                                 Traceback (most recent call last)",
      "\u001b[0;32m<ipython-input-14-8a215097b04c>\u001b[0m in \u001b[0;36m<module>\u001b[0;34m()\u001b[0m\n\u001b[1;32m      1\u001b[0m \u001b[0ms\u001b[0m \u001b[0;34m=\u001b[0m \u001b[0;34m'Machine leerning is cool'\u001b[0m\u001b[0;34m\u001b[0m\u001b[0m\n\u001b[0;32m----> 2\u001b[0;31m \u001b[0ms\u001b[0m\u001b[0;34m[\u001b[0m\u001b[0;36m10\u001b[0m\u001b[0;34m]\u001b[0m \u001b[0;34m=\u001b[0m \u001b[0;34m'a'\u001b[0m\u001b[0;34m\u001b[0m\u001b[0m\n\u001b[0m",
      "\u001b[0;31mTypeError\u001b[0m: 'str' object does not support item assignment"
     ]
    }
   ],
   "source": [
    "s = 'Machine leerning is cool'\n",
    "s[10] = 'a'"
   ]
  },
  {
   "cell_type": "markdown",
   "metadata": {},
   "source": [
    "Так что, символ в строке можно изменить, например, так:"
   ]
  },
  {
   "cell_type": "code",
   "execution_count": 15,
   "metadata": {},
   "outputs": [
    {
     "name": "stdout",
     "output_type": "stream",
     "text": [
      "Machine learning is cool\n"
     ]
    }
   ],
   "source": [
    "s = 'Machine leerning is cool'\n",
    "s = s[:10] + 'a' + s[11:]\n",
    "print s"
   ]
  },
  {
   "cell_type": "markdown",
   "metadata": {},
   "source": [
    "Также у строк есть удобный метод для их разделения и склейки."
   ]
  },
  {
   "cell_type": "code",
   "execution_count": 16,
   "metadata": {},
   "outputs": [
    {
     "name": "stdout",
     "output_type": "stream",
     "text": [
      "['Machine', 'learning', 'is', 'cool']\n",
      "Machine_learning_is_cool\n"
     ]
    }
   ],
   "source": [
    "s = 'Machine learning is cool'\n",
    "splitted = s.split(' ') \n",
    "print splitted\n",
    "print '_'.join(splitted)"
   ]
  },
  {
   "cell_type": "markdown",
   "metadata": {},
   "source": [
    "В Python 2, в отличие от Python 3, различаются типы строк и unicode. Последний предпочтительно использовать при работе, например, с кириллицей:"
   ]
  },
  {
   "cell_type": "code",
   "execution_count": 17,
   "metadata": {},
   "outputs": [
    {
     "name": "stdout",
     "output_type": "stream",
     "text": [
      "qwerty <type 'str'>\n",
      "абвгд <type 'unicode'>\n"
     ]
    }
   ],
   "source": [
    "s = 'qwerty'\n",
    "u = u'абвгд'\n",
    "print s, type(s)\n",
    "print u, type(u)"
   ]
  },
  {
   "cell_type": "markdown",
   "metadata": {},
   "source": [
    "## Кортежи"
   ]
  },
  {
   "cell_type": "markdown",
   "metadata": {},
   "source": [
    "В Python есть неизменяемый аналог списков - кортежи."
   ]
  },
  {
   "cell_type": "code",
   "execution_count": 18,
   "metadata": {},
   "outputs": [
    {
     "ename": "TypeError",
     "evalue": "'tuple' object does not support item assignment",
     "output_type": "error",
     "traceback": [
      "\u001b[0;31m---------------------------------------------------------------------------\u001b[0m",
      "\u001b[0;31mTypeError\u001b[0m                                 Traceback (most recent call last)",
      "\u001b[0;32m<ipython-input-18-18567edae165>\u001b[0m in \u001b[0;36m<module>\u001b[0;34m()\u001b[0m\n\u001b[1;32m      1\u001b[0m \u001b[0mfirst\u001b[0m \u001b[0;34m=\u001b[0m \u001b[0;34m(\u001b[0m\u001b[0;34m'Masha'\u001b[0m\u001b[0;34m,\u001b[0m \u001b[0;36m24\u001b[0m\u001b[0;34m)\u001b[0m\u001b[0;34m\u001b[0m\u001b[0m\n\u001b[0;32m----> 2\u001b[0;31m \u001b[0mfirst\u001b[0m\u001b[0;34m[\u001b[0m\u001b[0;36m0\u001b[0m\u001b[0;34m]\u001b[0m \u001b[0;34m=\u001b[0m \u001b[0;34m'Nastya'\u001b[0m\u001b[0;34m\u001b[0m\u001b[0m\n\u001b[0m",
      "\u001b[0;31mTypeError\u001b[0m: 'tuple' object does not support item assignment"
     ]
    }
   ],
   "source": [
    "first = ('Masha', 24)\n",
    "first[0] = 'Nastya'"
   ]
  },
  {
   "cell_type": "markdown",
   "metadata": {},
   "source": [
    "Кроме того, часто можно встретить подобное извлечение элементов из кортежей (на самом деле, то же самое работает и на списках)."
   ]
  },
  {
   "cell_type": "code",
   "execution_count": 19,
   "metadata": {},
   "outputs": [
    {
     "name": "stdout",
     "output_type": "stream",
     "text": [
      "[('Masha', 24), ('Vasya', 30), ('Kolya', 20)]\n",
      "Masha is 24 years old\n",
      "Vasya is 30 years old\n",
      "Kolya is 20 years old\n"
     ]
    }
   ],
   "source": [
    "first = ('Masha', 24)\n",
    "second = ('Vasya', 30)\n",
    "third = ('Kolya', 20)\n",
    "data = [first, second, third]\n",
    "print data\n",
    "\n",
    "for name, age in data:\n",
    "    print name + ' is ' + str(age) + ' years old'"
   ]
  },
  {
   "cell_type": "markdown",
   "metadata": {},
   "source": [
    "## Хэширование"
   ]
  },
  {
   "cell_type": "markdown",
   "metadata": {},
   "source": [
    "От каждого неизменяемого объекта в Python можно взять встроенную хэш-функцию. На этом основываются многие сложные встроенные в Python структуры данных."
   ]
  },
  {
   "cell_type": "code",
   "execution_count": 20,
   "metadata": {},
   "outputs": [
    {
     "name": "stdout",
     "output_type": "stream",
     "text": [
      "1543\n",
      "-2156747735\n",
      "1363750548686578661\n",
      "3035629031057941006\n"
     ]
    }
   ],
   "source": [
    "print hash(1543)\n",
    "print hash(-15.43)\n",
    "print hash('Kolya')\n",
    "print hash(('Masha', 24))"
   ]
  },
  {
   "cell_type": "markdown",
   "metadata": {},
   "source": [
    "Список является изменяемым, так что посчитать для него хэш не получится."
   ]
  },
  {
   "cell_type": "code",
   "execution_count": 21,
   "metadata": {},
   "outputs": [
    {
     "ename": "TypeError",
     "evalue": "unhashable type: 'list'",
     "output_type": "error",
     "traceback": [
      "\u001b[0;31m---------------------------------------------------------------------------\u001b[0m",
      "\u001b[0;31mTypeError\u001b[0m                                 Traceback (most recent call last)",
      "\u001b[0;32m<ipython-input-21-2496e8430051>\u001b[0m in \u001b[0;36m<module>\u001b[0;34m()\u001b[0m\n\u001b[0;32m----> 1\u001b[0;31m \u001b[0mhash\u001b[0m\u001b[0;34m(\u001b[0m\u001b[0;34m[\u001b[0m\u001b[0;34m'Masha'\u001b[0m\u001b[0;34m,\u001b[0m \u001b[0;36m24\u001b[0m\u001b[0;34m]\u001b[0m\u001b[0;34m)\u001b[0m\u001b[0;34m\u001b[0m\u001b[0m\n\u001b[0m",
      "\u001b[0;31mTypeError\u001b[0m: unhashable type: 'list'"
     ]
    }
   ],
   "source": [
    "hash(['Masha', 24])"
   ]
  },
  {
   "cell_type": "markdown",
   "metadata": {},
   "source": [
    "## Множества и словари"
   ]
  },
  {
   "cell_type": "markdown",
   "metadata": {},
   "source": [
    "В Python можно создавать множества."
   ]
  },
  {
   "cell_type": "code",
   "execution_count": 22,
   "metadata": {},
   "outputs": [
    {
     "name": "stdout",
     "output_type": "stream",
     "text": [
      "set([1, 2, 3])\n"
     ]
    }
   ],
   "source": [
    "print {1, 2, 2, 1, 3}"
   ]
  },
  {
   "cell_type": "markdown",
   "metadata": {},
   "source": [
    "Множества могут содержать в себе только неизменяемые объекты."
   ]
  },
  {
   "cell_type": "code",
   "execution_count": 23,
   "metadata": {},
   "outputs": [
    {
     "ename": "TypeError",
     "evalue": "unhashable type: 'list'",
     "output_type": "error",
     "traceback": [
      "\u001b[0;31m---------------------------------------------------------------------------\u001b[0m",
      "\u001b[0;31mTypeError\u001b[0m                                 Traceback (most recent call last)",
      "\u001b[0;32m<ipython-input-23-dc4155b1184b>\u001b[0m in \u001b[0;36m<module>\u001b[0;34m()\u001b[0m\n\u001b[0;32m----> 1\u001b[0;31m \u001b[0;32mprint\u001b[0m \u001b[0;34m{\u001b[0m\u001b[0;36m1\u001b[0m\u001b[0;34m,\u001b[0m \u001b[0;36m2\u001b[0m\u001b[0;34m,\u001b[0m \u001b[0;36m3\u001b[0m\u001b[0;34m,\u001b[0m \u001b[0;34m[\u001b[0m\u001b[0;36m5\u001b[0m\u001b[0;34m,\u001b[0m \u001b[0;36m6\u001b[0m\u001b[0;34m]\u001b[0m\u001b[0;34m}\u001b[0m\u001b[0;34m\u001b[0m\u001b[0m\n\u001b[0m",
      "\u001b[0;31mTypeError\u001b[0m: unhashable type: 'list'"
     ]
    }
   ],
   "source": [
    "print {1, 2, 3, [5, 6]} "
   ]
  },
  {
   "cell_type": "markdown",
   "metadata": {},
   "source": [
    "С помощью множеств можно, например, удалять дубликаты из списков. Так же над ними можно выполнять логические операции."
   ]
  },
  {
   "cell_type": "code",
   "execution_count": 24,
   "metadata": {},
   "outputs": [
    {
     "name": "stdout",
     "output_type": "stream",
     "text": [
      "[1, 2, 4, 6]\n",
      "[7, 9]\n"
     ]
    }
   ],
   "source": [
    "print sorted(list(set([1, 2, 2, 2, 1, 4, 6, 4])))\n",
    "print sorted(list(set(range(10)) & set(range(7, 20, 2))))"
   ]
  },
  {
   "cell_type": "markdown",
   "metadata": {},
   "source": [
    "Можно использовать словари (ассоциативные массивы, аналог unordered_map в C++). Ключи тоже должны быть неизменяемыми, а вот значения могут быть и изменяемыми."
   ]
  },
  {
   "cell_type": "code",
   "execution_count": 25,
   "metadata": {},
   "outputs": [
    {
     "name": "stdout",
     "output_type": "stream",
     "text": [
      "{(-1, 1): 0, 'Masha': [1, 10, 3], None: 10}\n"
     ]
    }
   ],
   "source": [
    "a = {None: 10, 'Masha': [1, 2, 3], (-1, 1): 0}\n",
    "a['Masha'][1] = 10\n",
    "print a"
   ]
  },
  {
   "cell_type": "markdown",
   "metadata": {},
   "source": [
    "Обратите внимание, что пустые фигурные скобки - пустой словарь."
   ]
  },
  {
   "cell_type": "code",
   "execution_count": 26,
   "metadata": {},
   "outputs": [
    {
     "name": "stdout",
     "output_type": "stream",
     "text": [
      "False\n",
      "True\n"
     ]
    }
   ],
   "source": [
    "print {} == set()\n",
    "print {} == dict()"
   ]
  },
  {
   "cell_type": "markdown",
   "metadata": {},
   "source": [
    "Вот небольшой пример генерации списка чисел и подсчета их встречаемости с помощью словаря:"
   ]
  },
  {
   "cell_type": "code",
   "execution_count": 27,
   "metadata": {},
   "outputs": [
    {
     "name": "stdout",
     "output_type": "stream",
     "text": [
      "{0.0: 15, 1.0: 20, 2.0: 23, -1.0: 18, -2.0: 24}\n",
      "[0.0, 1.0, 2.0, -1.0, -2.0]\n",
      "[15, 20, 23, 18, 24]\n",
      "[(0.0, 15), (1.0, 20), (2.0, 23), (-1.0, 18), (-2.0, 24)]\n"
     ]
    }
   ],
   "source": [
    "import math\n",
    "data = [round(math.sin(i) * 2) for i in range(100)]\n",
    "\n",
    "counter = dict()\n",
    "for element in data:\n",
    "    if not element in counter:\n",
    "        counter[element] = 0\n",
    "    counter[element] += 1\n",
    "        \n",
    "print counter\n",
    "print counter.keys()\n",
    "print counter.values()\n",
    "print counter.items()"
   ]
  },
  {
   "cell_type": "markdown",
   "metadata": {},
   "source": [
    "Выше был использован так называемый генератор для создания списка одной строкой кода. Подобные конструкции оказываются очень удобны на практике. Ниже приведено еще несколько примеров их использования."
   ]
  },
  {
   "cell_type": "code",
   "execution_count": 28,
   "metadata": {},
   "outputs": [
    {
     "name": "stdout",
     "output_type": "stream",
     "text": [
      "[0, 1, 4, 9, 16, 25, 36, 49, 64, 81, 100, 121, 144, 169, 196, 225, 256, 289, 324, 361]\n",
      "[[], [], []]\n",
      "['Yandex is cool', 'Yahoo is cool']\n"
     ]
    }
   ],
   "source": [
    "print [i ** 2 for i in range(20)]\n",
    "print [[] for i in range(3)]\n",
    "print [s + ' is cool' for s in ['Yandex', 'Google', 'Yahoo'] if s[0] == 'Y']"
   ]
  },
  {
   "cell_type": "markdown",
   "metadata": {},
   "source": [
    "## Ввод и вывод"
   ]
  },
  {
   "cell_type": "markdown",
   "metadata": {},
   "source": [
    "Считывание из стандартного потока ввода всех строк, отрезание крайних пробельных символов и вывод с стандартный поток вывода (по умолчанию print тоже выводит в стандартный поток вывода sys.stdout)."
   ]
  },
  {
   "cell_type": "code",
   "execution_count": 29,
   "metadata": {
    "collapsed": true
   },
   "outputs": [],
   "source": [
    "from sys import stdin\n",
    "from sys import stdout\n",
    "for line in stdin:\n",
    "    line = line.strip()\n",
    "    print >> stdout, line + '!'"
   ]
  },
  {
   "cell_type": "markdown",
   "metadata": {},
   "source": [
    "Считывание данных из файла с данными, разделенными запятой, и вывод в другой файл только 2го и 4го столбца через табуляцию."
   ]
  },
  {
   "cell_type": "code",
   "execution_count": null,
   "metadata": {
    "collapsed": true
   },
   "outputs": [],
   "source": [
    "in_file = open('in_file.txt')\n",
    "out_file = open('out_file.txt', 'w')\n",
    "\n",
    "title = in_file.readline()\n",
    "for line in in_file:\n",
    "    cells = line.split(',')\n",
    "    print >> out_file, '\\t'.join([cells[1], cells[3]])"
   ]
  },
  {
   "cell_type": "markdown",
   "metadata": {},
   "source": [
    "Но лучше файлы всегда открывать так:"
   ]
  },
  {
   "cell_type": "code",
   "execution_count": null,
   "metadata": {
    "collapsed": true
   },
   "outputs": [],
   "source": [
    "with open('in_file.txt') as fin:\n",
    "    pass"
   ]
  },
  {
   "cell_type": "markdown",
   "metadata": {},
   "source": [
    "## Функции и память"
   ]
  },
  {
   "cell_type": "markdown",
   "metadata": {},
   "source": [
    "В Python имя каждого объекта - ссылка на соответствующую область памяти. При присваивании сложных объектов (например, списков) происходит копирование ссылки, а не содержимого объекта."
   ]
  },
  {
   "cell_type": "code",
   "execution_count": 30,
   "metadata": {},
   "outputs": [
    {
     "name": "stdout",
     "output_type": "stream",
     "text": [
      "[0, 1, 2, 100, 4] [0, 1, 2, 100, 4]\n",
      "[0, 1, 2, 100, 4] [0, 1, 2, 3, 4, 5, 6, 7, 8, 9]\n"
     ]
    }
   ],
   "source": [
    "a = range(5)\n",
    "b = a\n",
    "b[3] = 100\n",
    "print a, b\n",
    "b = range(10)\n",
    "print a, b"
   ]
  },
  {
   "cell_type": "markdown",
   "metadata": {},
   "source": [
    "В Python можно заводить обычные функции и лямбда-функции."
   ]
  },
  {
   "cell_type": "code",
   "execution_count": 31,
   "metadata": {},
   "outputs": [
    {
     "name": "stdout",
     "output_type": "stream",
     "text": [
      "(144, 1728)\n",
      "(144, 1728)\n"
     ]
    }
   ],
   "source": [
    "def get_degrees(n):\n",
    "    return n ** 2, n ** 3\n",
    "print get_degrees(12)\n",
    "print (lambda n: (n ** 2, n ** 3))(12)"
   ]
  },
  {
   "cell_type": "markdown",
   "metadata": {},
   "source": [
    "Также можно, не помня порядок параметров у функции, использовать при вызове их названия."
   ]
  },
  {
   "cell_type": "code",
   "execution_count": 32,
   "metadata": {},
   "outputs": [
    {
     "name": "stdout",
     "output_type": "stream",
     "text": [
      "[0, 0] Data Mining 10\n"
     ]
    }
   ],
   "source": [
    "def my_func(param1, param2='ML', param3=10):\n",
    "    print param1, param2, param3\n",
    "my_func(param2='Data Mining', param1=[0, 0])"
   ]
  },
  {
   "cell_type": "markdown",
   "metadata": {},
   "source": [
    "## Классы"
   ]
  },
  {
   "cell_type": "markdown",
   "metadata": {},
   "source": [
    "Синтаксис для создания классов прост. Служебные методы принято называть с двумя подчеркиваниями в начале и конце. Так, например, __init__ — конструктор. Первый параметр каждого метода — сам объект, для которого вызывает метод. Принято называть этот параметр self."
   ]
  },
  {
   "cell_type": "code",
   "execution_count": 33,
   "metadata": {},
   "outputs": [
    {
     "name": "stdout",
     "output_type": "stream",
     "text": [
      "<__main__.MyClass instance at 0x104c60c20>\n",
      "10\n",
      "100\n"
     ]
    }
   ],
   "source": [
    "class MyClass:\n",
    "    def __init__(self, param):\n",
    "        self.field = param\n",
    "\n",
    "    def get_squared_param(self):\n",
    "        return self.field ** 2\n",
    "\n",
    "a = MyClass(10)\n",
    "print a\n",
    "print a.field\n",
    "print a.get_squared_param()"
   ]
  }
 ],
 "metadata": {
  "kernelspec": {
   "display_name": "Python 2",
   "language": "python",
   "name": "python2"
  },
  "language_info": {
   "codemirror_mode": {
    "name": "ipython",
    "version": 2
   },
   "file_extension": ".py",
   "mimetype": "text/x-python",
   "name": "python",
   "nbconvert_exporter": "python",
   "pygments_lexer": "ipython2",
   "version": "2.7.14"
  }
 },
 "nbformat": 4,
 "nbformat_minor": 1
}
