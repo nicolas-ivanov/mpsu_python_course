{
 "cells": [
  {
   "cell_type": "markdown",
   "metadata": {},
   "source": [
    "## Кортежи"
   ]
  },
  {
   "cell_type": "markdown",
   "metadata": {},
   "source": [
    "В Python есть неизменяемый аналог списков - кортежи."
   ]
  },
  {
   "cell_type": "code",
   "execution_count": 18,
   "metadata": {},
   "outputs": [
    {
     "ename": "TypeError",
     "evalue": "'tuple' object does not support item assignment",
     "output_type": "error",
     "traceback": [
      "\u001b[0;31m---------------------------------------------------------------------------\u001b[0m",
      "\u001b[0;31mTypeError\u001b[0m                                 Traceback (most recent call last)",
      "\u001b[0;32m<ipython-input-18-18567edae165>\u001b[0m in \u001b[0;36m<module>\u001b[0;34m()\u001b[0m\n\u001b[1;32m      1\u001b[0m \u001b[0mfirst\u001b[0m \u001b[0;34m=\u001b[0m \u001b[0;34m(\u001b[0m\u001b[0;34m'Masha'\u001b[0m\u001b[0;34m,\u001b[0m \u001b[0;36m24\u001b[0m\u001b[0;34m)\u001b[0m\u001b[0;34m\u001b[0m\u001b[0m\n\u001b[0;32m----> 2\u001b[0;31m \u001b[0mfirst\u001b[0m\u001b[0;34m[\u001b[0m\u001b[0;36m0\u001b[0m\u001b[0;34m]\u001b[0m \u001b[0;34m=\u001b[0m \u001b[0;34m'Nastya'\u001b[0m\u001b[0;34m\u001b[0m\u001b[0m\n\u001b[0m",
      "\u001b[0;31mTypeError\u001b[0m: 'tuple' object does not support item assignment"
     ]
    }
   ],
   "source": [
    "first = ('Masha', 24)\n",
    "first[0] = 'Nastya'"
   ]
  },
  {
   "cell_type": "markdown",
   "metadata": {},
   "source": [
    "Кроме того, часто можно встретить подобное извлечение элементов из кортежей (на самом деле, то же самое работает и на списках)."
   ]
  },
  {
   "cell_type": "code",
   "execution_count": 19,
   "metadata": {
    "scrolled": true
   },
   "outputs": [
    {
     "name": "stdout",
     "output_type": "stream",
     "text": [
      "[('Masha', 24), ('Vasya', 30), ('Kolya', 20)]\n",
      "Masha is 24 years old\n",
      "Vasya is 30 years old\n",
      "Kolya is 20 years old\n"
     ]
    }
   ],
   "source": [
    "first = ('Masha', 24)\n",
    "second = ('Vasya', 30)\n",
    "third = ('Kolya', 20)\n",
    "data = [first, second, third]\n",
    "print data\n",
    "\n",
    "for name, age in data:\n",
    "    print name + ' is ' + str(age) + ' years old'"
   ]
  },
  {
   "cell_type": "markdown",
   "metadata": {},
   "source": [
    "## Множества"
   ]
  },
  {
   "cell_type": "markdown",
   "metadata": {},
   "source": [
    "В Python можно создавать множества."
   ]
  },
  {
   "cell_type": "code",
   "execution_count": 22,
   "metadata": {},
   "outputs": [
    {
     "name": "stdout",
     "output_type": "stream",
     "text": [
      "set([1, 2, 3])\n"
     ]
    }
   ],
   "source": [
    "print {1, 2, 2, 1, 3}"
   ]
  },
  {
   "cell_type": "markdown",
   "metadata": {},
   "source": [
    "Множества могут содержать в себе только неизменяемые объекты."
   ]
  },
  {
   "cell_type": "code",
   "execution_count": 23,
   "metadata": {},
   "outputs": [
    {
     "ename": "TypeError",
     "evalue": "unhashable type: 'list'",
     "output_type": "error",
     "traceback": [
      "\u001b[0;31m---------------------------------------------------------------------------\u001b[0m",
      "\u001b[0;31mTypeError\u001b[0m                                 Traceback (most recent call last)",
      "\u001b[0;32m<ipython-input-23-dc4155b1184b>\u001b[0m in \u001b[0;36m<module>\u001b[0;34m()\u001b[0m\n\u001b[0;32m----> 1\u001b[0;31m \u001b[0;32mprint\u001b[0m \u001b[0;34m{\u001b[0m\u001b[0;36m1\u001b[0m\u001b[0;34m,\u001b[0m \u001b[0;36m2\u001b[0m\u001b[0;34m,\u001b[0m \u001b[0;36m3\u001b[0m\u001b[0;34m,\u001b[0m \u001b[0;34m[\u001b[0m\u001b[0;36m5\u001b[0m\u001b[0;34m,\u001b[0m \u001b[0;36m6\u001b[0m\u001b[0;34m]\u001b[0m\u001b[0;34m}\u001b[0m\u001b[0;34m\u001b[0m\u001b[0m\n\u001b[0m",
      "\u001b[0;31mTypeError\u001b[0m: unhashable type: 'list'"
     ]
    }
   ],
   "source": [
    "print {1, 2, 3, [5, 6]} "
   ]
  },
  {
   "cell_type": "markdown",
   "metadata": {},
   "source": [
    "С помощью множеств можно, например, удалять дубликаты из списков. Так же над ними можно выполнять логические операции."
   ]
  },
  {
   "cell_type": "code",
   "execution_count": 24,
   "metadata": {
    "scrolled": true
   },
   "outputs": [
    {
     "name": "stdout",
     "output_type": "stream",
     "text": [
      "[1, 2, 4, 6]\n",
      "[7, 9]\n"
     ]
    }
   ],
   "source": [
    "print sorted(list(set([1, 2, 2, 2, 1, 4, 6, 4])))\n",
    "print sorted(list(set(range(10)) & set(range(7, 20, 2))))"
   ]
  },
  {
   "cell_type": "markdown",
   "metadata": {},
   "source": [
    "## Словари"
   ]
  },
  {
   "cell_type": "markdown",
   "metadata": {},
   "source": [
    "Cловари - ассоциативные массивы, аналог unordered_map в C++. Ключи тоже должны быть неизменяемыми, а вот значения могут быть и изменяемыми."
   ]
  },
  {
   "cell_type": "code",
   "execution_count": 25,
   "metadata": {},
   "outputs": [
    {
     "name": "stdout",
     "output_type": "stream",
     "text": [
      "{(-1, 1): 0, 'Masha': [1, 10, 3], None: 10}\n"
     ]
    }
   ],
   "source": [
    "a = {None: 10, 'Masha': [1, 2, 3], (-1, 1): 0}\n",
    "a['Masha'][1] = 10\n",
    "print a"
   ]
  },
  {
   "cell_type": "markdown",
   "metadata": {},
   "source": [
    "Обратите внимание, что пустые фигурные скобки - пустой словарь."
   ]
  },
  {
   "cell_type": "code",
   "execution_count": 26,
   "metadata": {},
   "outputs": [
    {
     "name": "stdout",
     "output_type": "stream",
     "text": [
      "False\n",
      "True\n"
     ]
    }
   ],
   "source": [
    "print {} == set()\n",
    "print {} == dict()"
   ]
  },
  {
   "cell_type": "markdown",
   "metadata": {},
   "source": [
    "Вот небольшой пример генерации списка чисел и подсчета их встречаемости с помощью словаря:"
   ]
  },
  {
   "cell_type": "code",
   "execution_count": 27,
   "metadata": {},
   "outputs": [
    {
     "name": "stdout",
     "output_type": "stream",
     "text": [
      "{0.0: 15, 1.0: 20, 2.0: 23, -1.0: 18, -2.0: 24}\n",
      "[0.0, 1.0, 2.0, -1.0, -2.0]\n",
      "[15, 20, 23, 18, 24]\n",
      "[(0.0, 15), (1.0, 20), (2.0, 23), (-1.0, 18), (-2.0, 24)]\n"
     ]
    }
   ],
   "source": [
    "import math\n",
    "data = [round(math.sin(i) * 2) for i in range(100)]\n",
    "\n",
    "counter = dict()\n",
    "for element in data:\n",
    "    if not element in counter:\n",
    "        counter[element] = 0\n",
    "    counter[element] += 1\n",
    "        \n",
    "print counter\n",
    "print counter.keys()\n",
    "print counter.values()\n",
    "print counter.items()"
   ]
  },
  {
   "cell_type": "markdown",
   "metadata": {},
   "source": [
    "Выше был использован так называемый генератор для создания списка одной строкой кода. Подобные конструкции оказываются очень удобны на практике. Ниже приведено еще несколько примеров их использования."
   ]
  },
  {
   "cell_type": "code",
   "execution_count": 28,
   "metadata": {
    "scrolled": true
   },
   "outputs": [
    {
     "name": "stdout",
     "output_type": "stream",
     "text": [
      "[0, 1, 4, 9, 16, 25, 36, 49, 64, 81, 100, 121, 144, 169, 196, 225, 256, 289, 324, 361]\n",
      "[[], [], []]\n",
      "['Yandex is cool', 'Yahoo is cool']\n"
     ]
    }
   ],
   "source": [
    "print [i ** 2 for i in range(20)]\n",
    "print [[] for i in range(3)]\n",
    "print [s + ' is cool' for s in ['Yandex', 'Google', 'Yahoo'] if s[0] == 'Y']"
   ]
  },
  {
   "cell_type": "code",
   "execution_count": null,
   "metadata": {
    "collapsed": true
   },
   "outputs": [],
   "source": []
  }
 ],
 "metadata": {
  "kernelspec": {
   "display_name": "Python 2",
   "language": "python",
   "name": "python2"
  },
  "language_info": {
   "codemirror_mode": {
    "name": "ipython",
    "version": 2
   },
   "file_extension": ".py",
   "mimetype": "text/x-python",
   "name": "python",
   "nbconvert_exporter": "python",
   "pygments_lexer": "ipython2",
   "version": "2.7.14"
  }
 },
 "nbformat": 4,
 "nbformat_minor": 2
}
