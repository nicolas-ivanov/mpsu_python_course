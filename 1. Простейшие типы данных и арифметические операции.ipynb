{
 "cells": [
  {
   "cell_type": "markdown",
   "metadata": {},
   "source": [
    "## Простейшие типы данных и арифметичеcкие операции"
   ]
  },
  {
   "cell_type": "markdown",
   "metadata": {},
   "source": [
    "Помимо обычного присваивания значения переменной, есть еще т.н. множественное присваивание, когда переменные записываются через запятую. Однострочные комментарии выделяются знаком #. Для вывода на экран нескольких аргументов нужно указать их через запятую."
   ]
  },
  {
   "cell_type": "code",
   "execution_count": 1,
   "metadata": {
    "scrolled": true
   },
   "outputs": [
    {
     "name": "stdout",
     "output_type": "stream",
     "text": [
      "10\n",
      "3.1 4\n",
      "4 3.1\n",
      "<type 'int'> <type 'int'> <type 'float'>\n"
     ]
    }
   ],
   "source": [
    "a = 10\n",
    "print a\n",
    "b, c = 3.1, 4\n",
    "print b, c\n",
    "b, c = c, b\n",
    "print b, c\n",
    "print type(a), type(b), type(c)"
   ]
  },
  {
   "cell_type": "markdown",
   "metadata": {},
   "source": [
    "В Python есть как и обычные для других языков арифметические операции, так и довольно редкие. Например, возведение в степень. К тому же в язык встроена длинная арифметика неограниченной точности. "
   ]
  },
  {
   "cell_type": "code",
   "execution_count": 2,
   "metadata": {
    "scrolled": true
   },
   "outputs": [
    {
     "name": "stdout",
     "output_type": "stream",
     "text": [
      "2037035976334486086268445688409378161051468393665936250636140449354381299763336706183397376\n",
      "<type 'long'>\n"
     ]
    }
   ],
   "source": [
    "print 2 ** 300\n",
    "print type(2 ** 100)"
   ]
  },
  {
   "cell_type": "markdown",
   "metadata": {},
   "source": [
    "Как и, например, в C, существует различие между целочисленным типом и вещественным."
   ]
  },
  {
   "cell_type": "code",
   "execution_count": 3,
   "metadata": {},
   "outputs": [
    {
     "name": "stdout",
     "output_type": "stream",
     "text": [
      "2\n",
      "2.0\n",
      "2.0\n"
     ]
    }
   ],
   "source": [
    "a = 2\n",
    "print a ** 3 / 4\n",
    "print a ** 3.0 / 4\n",
    "print a ** 3 / 4.0"
   ]
  },
  {
   "cell_type": "markdown",
   "metadata": {},
   "source": [
    "Аналогично языку C++, написав название типа с круглыми скобками после него, мы вызовем конструктор \"простейшего\" объекта указанного типа. Таким же образом можно преобразовывать один тип к другому."
   ]
  },
  {
   "cell_type": "code",
   "execution_count": 4,
   "metadata": {},
   "outputs": [
    {
     "name": "stdout",
     "output_type": "stream",
     "text": [
      "0\n",
      "0.0\n",
      "3.0\n",
      "12\n"
     ]
    }
   ],
   "source": [
    "print int()\n",
    "print float()\n",
    "print float(3)\n",
    "print int(12.7)"
   ]
  },
  {
   "cell_type": "markdown",
   "metadata": {},
   "source": [
    "Также в Python есть логический тип, строки и особый тип со всего одним значением *None*."
   ]
  },
  {
   "cell_type": "code",
   "execution_count": 5,
   "metadata": {
    "scrolled": true
   },
   "outputs": [
    {
     "name": "stdout",
     "output_type": "stream",
     "text": [
      "Hello world!\n",
      "True\n",
      "None <type 'NoneType'>\n"
     ]
    }
   ],
   "source": [
    "print 'Hello world!'\n",
    "print 'Hello world!' == \"Hello world!\"\n",
    "a = None\n",
    "print a, type(a)"
   ]
  },
  {
   "cell_type": "code",
   "execution_count": null,
   "metadata": {
    "collapsed": true
   },
   "outputs": [],
   "source": []
  }
 ],
 "metadata": {
  "kernelspec": {
   "display_name": "Python 2",
   "language": "python",
   "name": "python2"
  },
  "language_info": {
   "codemirror_mode": {
    "name": "ipython",
    "version": 2
   },
   "file_extension": ".py",
   "mimetype": "text/x-python",
   "name": "python",
   "nbconvert_exporter": "python",
   "pygments_lexer": "ipython2",
   "version": "2.7.14"
  }
 },
 "nbformat": 4,
 "nbformat_minor": 2
}
