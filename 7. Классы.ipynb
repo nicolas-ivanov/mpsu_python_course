{
 "cells": [
  {
   "cell_type": "markdown",
   "metadata": {},
   "source": [
    "## Классы"
   ]
  },
  {
   "cell_type": "markdown",
   "metadata": {},
   "source": [
    "Синтаксис для создания классов прост. Служебные методы принято называть с двумя подчеркиваниями в начале и конце. Так, например, __init__ — конструктор. Первый параметр каждого метода — сам объект, для которого вызывает метод. Принято называть этот параметр self."
   ]
  },
  {
   "cell_type": "code",
   "execution_count": 33,
   "metadata": {
    "scrolled": true
   },
   "outputs": [
    {
     "name": "stdout",
     "output_type": "stream",
     "text": [
      "<__main__.MyClass instance at 0x104c60c20>\n",
      "10\n",
      "100\n"
     ]
    }
   ],
   "source": [
    "class MyClass:\n",
    "    def __init__(self, param):\n",
    "        self.field = param\n",
    "\n",
    "    def get_squared_param(self):\n",
    "        return self.field ** 2\n",
    "\n",
    "a = MyClass(10)\n",
    "print a\n",
    "print a.field\n",
    "print a.get_squared_param()"
   ]
  },
  {
   "cell_type": "code",
   "execution_count": null,
   "metadata": {
    "collapsed": true
   },
   "outputs": [],
   "source": []
  }
 ],
 "metadata": {
  "kernelspec": {
   "display_name": "Python 2",
   "language": "python",
   "name": "python2"
  },
  "language_info": {
   "codemirror_mode": {
    "name": "ipython",
    "version": 2
   },
   "file_extension": ".py",
   "mimetype": "text/x-python",
   "name": "python",
   "nbconvert_exporter": "python",
   "pygments_lexer": "ipython2",
   "version": "2.7.14"
  }
 },
 "nbformat": 4,
 "nbformat_minor": 2
}
