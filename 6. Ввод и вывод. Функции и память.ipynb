{
 "cells": [
  {
   "cell_type": "markdown",
   "metadata": {},
   "source": [
    "## Ввод и вывод"
   ]
  },
  {
   "cell_type": "markdown",
   "metadata": {},
   "source": [
    "Считывание из стандартного потока ввода всех строк, отрезание крайних пробельных символов и вывод с стандартный поток вывода (по умолчанию print тоже выводит в стандартный поток вывода sys.stdout)."
   ]
  },
  {
   "cell_type": "code",
   "execution_count": 29,
   "metadata": {
    "collapsed": true
   },
   "outputs": [],
   "source": [
    "from sys import stdin\n",
    "from sys import stdout\n",
    "for line in stdin:\n",
    "    line = line.strip()\n",
    "    print >> stdout, line + '!'"
   ]
  },
  {
   "cell_type": "markdown",
   "metadata": {},
   "source": [
    "Считывание данных из файла с данными, разделенными запятой, и вывод в другой файл только 2го и 4го столбца через табуляцию."
   ]
  },
  {
   "cell_type": "code",
   "execution_count": null,
   "metadata": {
    "collapsed": true
   },
   "outputs": [],
   "source": [
    "in_file = open('in_file.txt')\n",
    "out_file = open('out_file.txt', 'w')\n",
    "\n",
    "title = in_file.readline()\n",
    "for line in in_file:\n",
    "    cells = line.split(',')\n",
    "    print >> out_file, '\\t'.join([cells[1], cells[3]])"
   ]
  },
  {
   "cell_type": "markdown",
   "metadata": {},
   "source": [
    "Но лучше файлы всегда открывать так:"
   ]
  },
  {
   "cell_type": "code",
   "execution_count": null,
   "metadata": {
    "collapsed": true
   },
   "outputs": [],
   "source": [
    "with open('in_file.txt') as fin:\n",
    "    pass"
   ]
  },
  {
   "cell_type": "markdown",
   "metadata": {},
   "source": [
    "## Функции и память"
   ]
  },
  {
   "cell_type": "markdown",
   "metadata": {},
   "source": [
    "В Python имя каждого объекта - ссылка на соответствующую область памяти. При присваивании сложных объектов (например, списков) происходит копирование ссылки, а не содержимого объекта."
   ]
  },
  {
   "cell_type": "code",
   "execution_count": 30,
   "metadata": {},
   "outputs": [
    {
     "name": "stdout",
     "output_type": "stream",
     "text": [
      "[0, 1, 2, 100, 4] [0, 1, 2, 100, 4]\n",
      "[0, 1, 2, 100, 4] [0, 1, 2, 3, 4, 5, 6, 7, 8, 9]\n"
     ]
    }
   ],
   "source": [
    "a = range(5)\n",
    "b = a\n",
    "b[3] = 100\n",
    "print a, b\n",
    "b = range(10)\n",
    "print a, b"
   ]
  },
  {
   "cell_type": "markdown",
   "metadata": {},
   "source": [
    "В Python можно заводить обычные функции и лямбда-функции."
   ]
  },
  {
   "cell_type": "code",
   "execution_count": 31,
   "metadata": {},
   "outputs": [
    {
     "name": "stdout",
     "output_type": "stream",
     "text": [
      "(144, 1728)\n",
      "(144, 1728)\n"
     ]
    }
   ],
   "source": [
    "def get_degrees(n):\n",
    "    return n ** 2, n ** 3\n",
    "print get_degrees(12)\n",
    "print (lambda n: (n ** 2, n ** 3))(12)"
   ]
  },
  {
   "cell_type": "markdown",
   "metadata": {},
   "source": [
    "Также можно, не помня порядок параметров у функции, использовать при вызове их названия."
   ]
  },
  {
   "cell_type": "code",
   "execution_count": 32,
   "metadata": {},
   "outputs": [
    {
     "name": "stdout",
     "output_type": "stream",
     "text": [
      "[0, 0] Data Mining 10\n"
     ]
    }
   ],
   "source": [
    "def my_func(param1, param2='ML', param3=10):\n",
    "    print param1, param2, param3\n",
    "my_func(param2='Data Mining', param1=[0, 0])"
   ]
  },
  {
   "cell_type": "code",
   "execution_count": null,
   "metadata": {
    "collapsed": true
   },
   "outputs": [],
   "source": []
  }
 ],
 "metadata": {
  "kernelspec": {
   "display_name": "Python 2",
   "language": "python",
   "name": "python2"
  },
  "language_info": {
   "codemirror_mode": {
    "name": "ipython",
    "version": 2
   },
   "file_extension": ".py",
   "mimetype": "text/x-python",
   "name": "python",
   "nbconvert_exporter": "python",
   "pygments_lexer": "ipython2",
   "version": "2.7.14"
  }
 },
 "nbformat": 4,
 "nbformat_minor": 2
}
